{
 "cells": [
  {
   "cell_type": "markdown",
   "metadata": {
    "collapsed": true
   },
   "source": [
    "# Artificial Intelligence Nanodegree\n",
    "## Machine Translation Project\n",
    "In this notebook, sections that end with **'(IMPLEMENTATION)'** in the header indicate that the following blocks of code will require additional functionality which you must provide. Please be sure to read the instructions carefully!\n",
    "\n",
    "## Introduction\n",
    "In this notebook, you will build a deep neural network that functions as part of an end-to-end machine translation pipeline. Your completed pipeline will accept English text as input and return the French translation.\n",
    "\n",
    "- **Preprocess** - You'll convert text to sequence of integers.\n",
    "- **Models** Create models which accepts a sequence of integers as input and returns a probability distribution over possible translations. After learning about the basic types of neural networks that are often used for machine translation, you will engage in your own investigations, to design your own model!\n",
    "- **Prediction** Run the model on English text."
   ]
  },
  {
   "cell_type": "code",
   "execution_count": 4,
   "metadata": {},
   "outputs": [],
   "source": [
    "%load_ext autoreload\n",
    "%aimport helper, tests\n",
    "%autoreload 1"
   ]
  },
  {
   "cell_type": "code",
   "execution_count": 2,
   "metadata": {},
   "outputs": [
    {
     "name": "stderr",
     "output_type": "stream",
     "text": [
      "Using TensorFlow backend.\n"
     ]
    }
   ],
   "source": [
    "import collections\n",
    "\n",
    "import helper\n",
    "import numpy as np\n",
    "import project_tests as tests\n",
    "\n",
    "from keras.preprocessing.text import Tokenizer\n",
    "from keras.preprocessing.sequence import pad_sequences\n",
    "from keras.models import Model\n",
    "from keras.layers import LSTM,GRU, Input, Dense, TimeDistributed, Activation, RepeatVector, Bidirectional\n",
    "from keras.layers.embeddings import Embedding\n",
    "from keras.optimizers import Adam\n",
    "from keras.losses import sparse_categorical_crossentropy"
   ]
  },
  {
   "cell_type": "markdown",
   "metadata": {},
   "source": [
    "### Verify access to the GPU\n",
    "The following test applies only if you expect to be using a GPU, e.g., while running in a Udacity Workspace or using an AWS instance with GPU support. Run the next cell, and verify that the device_type is \"GPU\".\n",
    "- If the device is not GPU & you are running from a Udacity Workspace, then save your workspace with the icon at the top, then click \"enable\" at the bottom of the workspace.\n",
    "- If the device is not GPU & you are running from an AWS instance, then refer to the cloud computing instructions in the classroom to verify your setup steps."
   ]
  },
  {
   "cell_type": "code",
   "execution_count": 3,
   "metadata": {},
   "outputs": [
    {
     "name": "stdout",
     "output_type": "stream",
     "text": [
      "[name: \"/cpu:0\"\n",
      "device_type: \"CPU\"\n",
      "memory_limit: 268435456\n",
      "locality {\n",
      "}\n",
      "incarnation: 12780009248812661127\n",
      ", name: \"/gpu:0\"\n",
      "device_type: \"GPU\"\n",
      "memory_limit: 357433344\n",
      "locality {\n",
      "  bus_id: 1\n",
      "}\n",
      "incarnation: 9835081271395253817\n",
      "physical_device_desc: \"device: 0, name: Tesla K80, pci bus id: 0000:00:04.0\"\n",
      "]\n"
     ]
    }
   ],
   "source": [
    "from tensorflow.python.client import device_lib\n",
    "print(device_lib.list_local_devices())"
   ]
  },
  {
   "cell_type": "markdown",
   "metadata": {},
   "source": [
    "## Dataset\n",
    "We begin by investigating the dataset that will be used to train and evaluate your pipeline.  The most common datasets used for machine translation are from [WMT](http://www.statmt.org/).  However, that will take a long time to train a neural network on.  We'll be using a dataset we created for this project that contains a small vocabulary.  You'll be able to train your model in a reasonable time with this dataset.\n",
    "### Load Data\n",
    "The data is located in `data/small_vocab_en` and `data/small_vocab_fr`. The `small_vocab_en` file contains English sentences with their French translations in the `small_vocab_fr` file. Load the English and French data from these files from running the cell below."
   ]
  },
  {
   "cell_type": "code",
   "execution_count": 4,
   "metadata": {},
   "outputs": [
    {
     "name": "stdout",
     "output_type": "stream",
     "text": [
      "Dataset Loaded\n"
     ]
    }
   ],
   "source": [
    "# Load English data\n",
    "english_sentences = helper.load_data('data/small_vocab_en')\n",
    "# Load French data\n",
    "french_sentences = helper.load_data('data/small_vocab_fr')\n",
    "\n",
    "print('Dataset Loaded')"
   ]
  },
  {
   "cell_type": "markdown",
   "metadata": {},
   "source": [
    "### Files\n",
    "Each line in `small_vocab_en` contains an English sentence with the respective translation in each line of `small_vocab_fr`.  View the first two lines from each file."
   ]
  },
  {
   "cell_type": "code",
   "execution_count": 5,
   "metadata": {},
   "outputs": [
    {
     "name": "stdout",
     "output_type": "stream",
     "text": [
      "small_vocab_en Line 1:  new jersey is sometimes quiet during autumn , and it is snowy in april .\n",
      "small_vocab_fr Line 1:  new jersey est parfois calme pendant l' automne , et il est neigeux en avril .\n",
      "small_vocab_en Line 2:  the united states is usually chilly during july , and it is usually freezing in november .\n",
      "small_vocab_fr Line 2:  les états-unis est généralement froid en juillet , et il gèle habituellement en novembre .\n"
     ]
    }
   ],
   "source": [
    "for sample_i in range(2):\n",
    "    print('small_vocab_en Line {}:  {}'.format(sample_i + 1, english_sentences[sample_i]))\n",
    "    print('small_vocab_fr Line {}:  {}'.format(sample_i + 1, french_sentences[sample_i]))"
   ]
  },
  {
   "cell_type": "markdown",
   "metadata": {},
   "source": [
    "From looking at the sentences, you can see they have been preprocessed already.  The puncuations have been delimited using spaces. All the text have been converted to lowercase.  This should save you some time, but the text requires more preprocessing.\n",
    "### Vocabulary\n",
    "The complexity of the problem is determined by the complexity of the vocabulary.  A more complex vocabulary is a more complex problem.  Let's look at the complexity of the dataset we'll be working with."
   ]
  },
  {
   "cell_type": "code",
   "execution_count": 6,
   "metadata": {},
   "outputs": [
    {
     "name": "stdout",
     "output_type": "stream",
     "text": [
      "1823250 English words.\n",
      "227 unique English words.\n",
      "10 Most common words in the English dataset:\n",
      "\"is\" \",\" \".\" \"in\" \"it\" \"during\" \"the\" \"but\" \"and\" \"sometimes\"\n",
      "\n",
      "1961295 French words.\n",
      "355 unique French words.\n",
      "10 Most common words in the French dataset:\n",
      "\"est\" \".\" \",\" \"en\" \"il\" \"les\" \"mais\" \"et\" \"la\" \"parfois\"\n"
     ]
    }
   ],
   "source": [
    "english_words_counter = collections.Counter([word for sentence in english_sentences for word in sentence.split()])\n",
    "french_words_counter = collections.Counter([word for sentence in french_sentences for word in sentence.split()])\n",
    "\n",
    "print('{} English words.'.format(len([word for sentence in english_sentences for word in sentence.split()])))\n",
    "print('{} unique English words.'.format(len(english_words_counter)))\n",
    "print('10 Most common words in the English dataset:')\n",
    "print('\"' + '\" \"'.join(list(zip(*english_words_counter.most_common(10)))[0]) + '\"')\n",
    "print()\n",
    "print('{} French words.'.format(len([word for sentence in french_sentences for word in sentence.split()])))\n",
    "print('{} unique French words.'.format(len(french_words_counter)))\n",
    "print('10 Most common words in the French dataset:')\n",
    "print('\"' + '\" \"'.join(list(zip(*french_words_counter.most_common(10)))[0]) + '\"')"
   ]
  },
  {
   "cell_type": "markdown",
   "metadata": {},
   "source": [
    "For comparison, _Alice's Adventures in Wonderland_ contains 2,766 unique words of a total of 15,500 words.\n",
    "## Preprocess\n",
    "For this project, you won't use text data as input to your model. Instead, you'll convert the text into sequences of integers using the following preprocess methods:\n",
    "1. Tokenize the words into ids\n",
    "2. Add padding to make all the sequences the same length.\n",
    "\n",
    "Time to start preprocessing the data...\n",
    "### Tokenize (IMPLEMENTATION)\n",
    "For a neural network to predict on text data, it first has to be turned into data it can understand. Text data like \"dog\" is a sequence of ASCII character encodings.  Since a neural network is a series of multiplication and addition operations, the input data needs to be number(s).\n",
    "\n",
    "We can turn each character into a number or each word into a number.  These are called character and word ids, respectively.  Character ids are used for character level models that generate text predictions for each character.  A word level model uses word ids that generate text predictions for each word.  Word level models tend to learn better, since they are lower in complexity, so we'll use those.\n",
    "\n",
    "Turn each sentence into a sequence of words ids using Keras's [`Tokenizer`](https://keras.io/preprocessing/text/#tokenizer) function. Use this function to tokenize `english_sentences` and `french_sentences` in the cell below.\n",
    "\n",
    "Running the cell will run `tokenize` on sample data and show output for debugging."
   ]
  },
  {
   "cell_type": "code",
   "execution_count": 7,
   "metadata": {},
   "outputs": [
    {
     "name": "stdout",
     "output_type": "stream",
     "text": [
      "{'the': 1, 'quick': 2, 'a': 3, 'brown': 4, 'fox': 5, 'jumps': 6, 'over': 7, 'lazy': 8, 'dog': 9, 'by': 10, 'jove': 11, 'my': 12, 'study': 13, 'of': 14, 'lexicography': 15, 'won': 16, 'prize': 17, 'this': 18, 'is': 19, 'short': 20, 'sentence': 21}\n",
      "\n",
      "Sequence 1 in x\n",
      "  Input:  The quick brown fox jumps over the lazy dog .\n",
      "  Output: [1, 2, 4, 5, 6, 7, 1, 8, 9]\n",
      "Sequence 2 in x\n",
      "  Input:  By Jove , my quick study of lexicography won a prize .\n",
      "  Output: [10, 11, 12, 2, 13, 14, 15, 16, 3, 17]\n",
      "Sequence 3 in x\n",
      "  Input:  This is a short sentence .\n",
      "  Output: [18, 19, 3, 20, 21]\n"
     ]
    }
   ],
   "source": [
    "def tokenize(x):\n",
    "    \"\"\"\n",
    "    Tokenize x\n",
    "    :param x: List of sentences/strings to be tokenized\n",
    "    :return: Tuple of (tokenized x data, tokenizer used to tokenize x)\n",
    "    \"\"\"\n",
    "    # TODO: Implement\n",
    "    \n",
    "    # Initialize tokenizer\n",
    "    tokenizer = Tokenizer()\n",
    "    # Fit tokenizer on text\n",
    "    tokenizer.fit_on_texts(x)\n",
    "    # Tokenize the text\n",
    "    tok_x = tokenizer.texts_to_sequences(x)\n",
    "    return tok_x, tokenizer\n",
    "tests.test_tokenize(tokenize)\n",
    "\n",
    "# Tokenize Example output\n",
    "text_sentences = [\n",
    "    'The quick brown fox jumps over the lazy dog .',\n",
    "    'By Jove , my quick study of lexicography won a prize .',\n",
    "    'This is a short sentence .']\n",
    "text_tokenized, text_tokenizer = tokenize(text_sentences)\n",
    "print(text_tokenizer.word_index)\n",
    "print()\n",
    "for sample_i, (sent, token_sent) in enumerate(zip(text_sentences, text_tokenized)):\n",
    "    print('Sequence {} in x'.format(sample_i + 1))\n",
    "    print('  Input:  {}'.format(sent))\n",
    "    print('  Output: {}'.format(token_sent))"
   ]
  },
  {
   "cell_type": "markdown",
   "metadata": {},
   "source": [
    "### Padding (IMPLEMENTATION)\n",
    "When batching the sequence of word ids together, each sequence needs to be the same length.  Since sentences are dynamic in length, we can add padding to the end of the sequences to make them the same length.\n",
    "\n",
    "Make sure all the English sequences have the same length and all the French sequences have the same length by adding padding to the **end** of each sequence using Keras's [`pad_sequences`](https://keras.io/preprocessing/sequence/#pad_sequences) function."
   ]
  },
  {
   "cell_type": "code",
   "execution_count": 8,
   "metadata": {},
   "outputs": [
    {
     "name": "stdout",
     "output_type": "stream",
     "text": [
      "Sequence 1 in x\n",
      "  Input:  [1 2 4 5 6 7 1 8 9]\n",
      "  Output: [1 2 4 5 6 7 1 8 9 0]\n",
      "Sequence 2 in x\n",
      "  Input:  [10 11 12  2 13 14 15 16  3 17]\n",
      "  Output: [10 11 12  2 13 14 15 16  3 17]\n",
      "Sequence 3 in x\n",
      "  Input:  [18 19  3 20 21]\n",
      "  Output: [18 19  3 20 21  0  0  0  0  0]\n"
     ]
    }
   ],
   "source": [
    "def pad(x, length=None):\n",
    "    \"\"\"\n",
    "    Pad x\n",
    "    :param x: List of sequences.\n",
    "    :param length: Length to pad the sequence to.  If None, use length of longest sequence in x.\n",
    "    :return: Padded numpy array of sequences\n",
    "    \"\"\"\n",
    "    # TODO: Implement\n",
    "    \n",
    "    if length == None:\n",
    "        length = max([len(sentence) for sentence in x])\n",
    "        \n",
    "    x = pad_sequences(x, maxlen=length, padding='post')\n",
    "    return x\n",
    "tests.test_pad(pad)\n",
    "\n",
    "# Pad Tokenized output\n",
    "test_pad = pad(text_tokenized)\n",
    "for sample_i, (token_sent, pad_sent) in enumerate(zip(text_tokenized, test_pad)):\n",
    "    print('Sequence {} in x'.format(sample_i + 1))\n",
    "    print('  Input:  {}'.format(np.array(token_sent)))\n",
    "    print('  Output: {}'.format(pad_sent))"
   ]
  },
  {
   "cell_type": "markdown",
   "metadata": {},
   "source": [
    "### Preprocess Pipeline\n",
    "Your focus for this project is to build neural network architecture, so we won't ask you to create a preprocess pipeline.  Instead, we've provided you with the implementation of the `preprocess` function."
   ]
  },
  {
   "cell_type": "code",
   "execution_count": 9,
   "metadata": {},
   "outputs": [
    {
     "name": "stdout",
     "output_type": "stream",
     "text": [
      "Data Preprocessed\n",
      "Max English sentence length: 15\n",
      "Max French sentence length: 21\n",
      "English vocabulary size: 199\n",
      "French vocabulary size: 344\n"
     ]
    }
   ],
   "source": [
    "def preprocess(x, y):\n",
    "    \"\"\"\n",
    "    Preprocess x and y\n",
    "    :param x: Feature List of sentences\n",
    "    :param y: Label List of sentences\n",
    "    :return: Tuple of (Preprocessed x, Preprocessed y, x tokenizer, y tokenizer)\n",
    "    \"\"\"\n",
    "    preprocess_x, x_tk = tokenize(x)\n",
    "    preprocess_y, y_tk = tokenize(y)\n",
    "\n",
    "    preprocess_x = pad(preprocess_x)\n",
    "    preprocess_y = pad(preprocess_y)\n",
    "\n",
    "    # Keras's sparse_categorical_crossentropy function requires the labels to be in 3 dimensions\n",
    "    preprocess_y = preprocess_y.reshape(*preprocess_y.shape, 1)\n",
    "\n",
    "    return preprocess_x, preprocess_y, x_tk, y_tk\n",
    "\n",
    "preproc_english_sentences, preproc_french_sentences, english_tokenizer, french_tokenizer =\\\n",
    "    preprocess(english_sentences, french_sentences)\n",
    "    \n",
    "max_english_sequence_length = preproc_english_sentences.shape[1]\n",
    "max_french_sequence_length = preproc_french_sentences.shape[1]\n",
    "english_vocab_size = len(english_tokenizer.word_index)\n",
    "french_vocab_size = len(french_tokenizer.word_index)\n",
    "\n",
    "print('Data Preprocessed')\n",
    "print(\"Max English sentence length:\", max_english_sequence_length)\n",
    "print(\"Max French sentence length:\", max_french_sequence_length)\n",
    "print(\"English vocabulary size:\", english_vocab_size)\n",
    "print(\"French vocabulary size:\", french_vocab_size)"
   ]
  },
  {
   "cell_type": "code",
   "execution_count": null,
   "metadata": {},
   "outputs": [],
   "source": []
  },
  {
   "cell_type": "code",
   "execution_count": 10,
   "metadata": {},
   "outputs": [
    {
     "data": {
      "text/plain": [
       "array([[17, 23,  1, ..., 44,  0,  0],\n",
       "       [ 5, 20, 21, ..., 51,  2, 45],\n",
       "       [22,  1,  9, ..., 34,  0,  0],\n",
       "       ..., \n",
       "       [24,  1, 10, ..., 54,  0,  0],\n",
       "       [ 5, 84,  1, ...,  0,  0,  0],\n",
       "       [ 0,  0,  0, ...,  0,  0,  0]], dtype=int32)"
      ]
     },
     "execution_count": 10,
     "metadata": {},
     "output_type": "execute_result"
    }
   ],
   "source": [
    "# view the results\n",
    "preproc_english_sentences"
   ]
  },
  {
   "cell_type": "code",
   "execution_count": 11,
   "metadata": {
    "scrolled": true
   },
   "outputs": [
    {
     "data": {
      "text/plain": [
       "array([[[ 35],\n",
       "        [ 34],\n",
       "        [  1],\n",
       "        ..., \n",
       "        [  0],\n",
       "        [  0],\n",
       "        [  0]],\n",
       "\n",
       "       [[  4],\n",
       "        [ 32],\n",
       "        [ 31],\n",
       "        ..., \n",
       "        [  0],\n",
       "        [  0],\n",
       "        [  0]],\n",
       "\n",
       "       [[101],\n",
       "        [  1],\n",
       "        [ 12],\n",
       "        ..., \n",
       "        [  0],\n",
       "        [  0],\n",
       "        [  0]],\n",
       "\n",
       "       ..., \n",
       "       [[  7],\n",
       "        [ 33],\n",
       "        [  1],\n",
       "        ..., \n",
       "        [  0],\n",
       "        [  0],\n",
       "        [  0]],\n",
       "\n",
       "       [[ 84],\n",
       "        [  1],\n",
       "        [ 20],\n",
       "        ..., \n",
       "        [  0],\n",
       "        [  0],\n",
       "        [  0]],\n",
       "\n",
       "       [[  0],\n",
       "        [  0],\n",
       "        [  0],\n",
       "        ..., \n",
       "        [  0],\n",
       "        [  0],\n",
       "        [  0]]], dtype=int32)"
      ]
     },
     "execution_count": 11,
     "metadata": {},
     "output_type": "execute_result"
    }
   ],
   "source": [
    "# view the results\n",
    "preproc_french_sentences"
   ]
  },
  {
   "cell_type": "code",
   "execution_count": 12,
   "metadata": {},
   "outputs": [
    {
     "data": {
      "text/plain": [
       "(137861, 15)"
      ]
     },
     "execution_count": 12,
     "metadata": {},
     "output_type": "execute_result"
    }
   ],
   "source": [
    "# view the results\n",
    "# maximum length of english sentences is 15\n",
    "preproc_english_sentences.shape"
   ]
  },
  {
   "cell_type": "code",
   "execution_count": 13,
   "metadata": {},
   "outputs": [
    {
     "data": {
      "text/plain": [
       "(137861, 21, 1)"
      ]
     },
     "execution_count": 13,
     "metadata": {},
     "output_type": "execute_result"
    }
   ],
   "source": [
    "# view the results\n",
    "# maximum length of french sentences is 15\n",
    "preproc_french_sentences.shape"
   ]
  },
  {
   "cell_type": "markdown",
   "metadata": {},
   "source": [
    "## Models\n",
    "In this section, you will experiment with various neural network architectures.\n",
    "You will begin by training four relatively simple architectures.\n",
    "- Model 1 is a simple RNN\n",
    "- Model 2 is a RNN with Embedding\n",
    "- Model 3 is a Bidirectional RNN\n",
    "- Model 4 is an optional Encoder-Decoder RNN\n",
    "\n",
    "After experimenting with the four simple architectures, you will construct a deeper architecture that is designed to outperform all four models.\n",
    "### Ids Back to Text\n",
    "The neural network will be translating the input to words ids, which isn't the final form we want.  We want the French translation.  The function `logits_to_text` will bridge the gab between the logits from the neural network to the French translation.  You'll be using this function to better understand the output of the neural network."
   ]
  },
  {
   "cell_type": "code",
   "execution_count": 10,
   "metadata": {},
   "outputs": [
    {
     "name": "stdout",
     "output_type": "stream",
     "text": [
      "`logits_to_text` function loaded.\n"
     ]
    }
   ],
   "source": [
    "def logits_to_text(logits, tokenizer):\n",
    "    \"\"\"\n",
    "    Turn logits from a neural network into text using the tokenizer\n",
    "    :param logits: Logits from a neural network\n",
    "    :param tokenizer: Keras Tokenizer fit on the labels\n",
    "    :return: String that represents the text of the logits\n",
    "    \"\"\"\n",
    "    index_to_words = {id: word for word, id in tokenizer.word_index.items()}\n",
    "    index_to_words[0] = '<PAD>'\n",
    "\n",
    "    return ' '.join([index_to_words[prediction] for prediction in np.argmax(logits, 1)])\n",
    "\n",
    "print('`logits_to_text` function loaded.')"
   ]
  },
  {
   "cell_type": "markdown",
   "metadata": {},
   "source": [
    "### Model 1: RNN (IMPLEMENTATION)\n",
    "![RNN](images/rnn.png)\n",
    "A basic RNN model is a good baseline for sequence data.  In this model, you'll build a RNN that translates English to French."
   ]
  },
  {
   "cell_type": "code",
   "execution_count": 15,
   "metadata": {
    "scrolled": true
   },
   "outputs": [
    {
     "name": "stdout",
     "output_type": "stream",
     "text": [
      "Train on 110288 samples, validate on 27573 samples\n",
      "Epoch 1/20\n",
      "110288/110288 [==============================] - 10s 95us/step - loss: 3.0175 - acc: 0.4300 - val_loss: nan - val_acc: 0.4888\n",
      "Epoch 2/20\n",
      "110288/110288 [==============================] - 8s 76us/step - loss: 2.0710 - acc: 0.5257 - val_loss: nan - val_acc: 0.5602\n",
      "Epoch 3/20\n",
      "110288/110288 [==============================] - 8s 76us/step - loss: 1.7150 - acc: 0.5747 - val_loss: nan - val_acc: 0.5890\n",
      "Epoch 4/20\n",
      "110288/110288 [==============================] - 8s 76us/step - loss: 1.5588 - acc: 0.6037 - val_loss: nan - val_acc: 0.6146\n",
      "Epoch 5/20\n",
      "110288/110288 [==============================] - 8s 76us/step - loss: 1.4617 - acc: 0.6192 - val_loss: nan - val_acc: 0.6212\n",
      "Epoch 6/20\n",
      "110288/110288 [==============================] - 8s 77us/step - loss: 1.3914 - acc: 0.6252 - val_loss: nan - val_acc: 0.6320\n",
      "Epoch 7/20\n",
      "110288/110288 [==============================] - 8s 76us/step - loss: 1.3348 - acc: 0.6317 - val_loss: nan - val_acc: 0.6342\n",
      "Epoch 8/20\n",
      "110288/110288 [==============================] - 8s 77us/step - loss: 1.2878 - acc: 0.6393 - val_loss: nan - val_acc: 0.6415\n",
      "Epoch 9/20\n",
      "110288/110288 [==============================] - 8s 77us/step - loss: 1.2495 - acc: 0.6454 - val_loss: nan - val_acc: 0.6500\n",
      "Epoch 10/20\n",
      "110288/110288 [==============================] - 9s 78us/step - loss: 1.2168 - acc: 0.6501 - val_loss: nan - val_acc: 0.6519\n",
      "Epoch 11/20\n",
      "110288/110288 [==============================] - 8s 76us/step - loss: 1.1893 - acc: 0.6539 - val_loss: nan - val_acc: 0.6549\n",
      "Epoch 12/20\n",
      "110288/110288 [==============================] - 8s 76us/step - loss: 1.1656 - acc: 0.6571 - val_loss: nan - val_acc: 0.6571\n",
      "Epoch 13/20\n",
      "110288/110288 [==============================] - 8s 77us/step - loss: 1.1448 - acc: 0.6600 - val_loss: nan - val_acc: 0.6605\n",
      "Epoch 14/20\n",
      "110288/110288 [==============================] - 8s 77us/step - loss: 1.1260 - acc: 0.6619 - val_loss: nan - val_acc: 0.6628\n",
      "Epoch 15/20\n",
      "110288/110288 [==============================] - 9s 77us/step - loss: 1.1094 - acc: 0.6643 - val_loss: nan - val_acc: 0.6647\n",
      "Epoch 16/20\n",
      "110288/110288 [==============================] - 8s 76us/step - loss: 1.0938 - acc: 0.6680 - val_loss: nan - val_acc: 0.6703\n",
      "Epoch 17/20\n",
      "110288/110288 [==============================] - 8s 76us/step - loss: 1.0808 - acc: 0.6707 - val_loss: nan - val_acc: 0.6763\n",
      "Epoch 18/20\n",
      "110288/110288 [==============================] - 8s 77us/step - loss: 1.0657 - acc: 0.6741 - val_loss: nan - val_acc: 0.6756\n",
      "Epoch 19/20\n",
      "110288/110288 [==============================] - 8s 77us/step - loss: 1.0527 - acc: 0.6774 - val_loss: nan - val_acc: 0.6799\n",
      "Epoch 20/20\n",
      "110288/110288 [==============================] - 8s 76us/step - loss: 1.0373 - acc: 0.6819 - val_loss: nan - val_acc: 0.6862\n",
      "new jersey est parfois calme en l' et il est il est en en <PAD> <PAD> <PAD> <PAD> <PAD> <PAD> <PAD>\n"
     ]
    }
   ],
   "source": [
    "def simple_model(input_shape, output_sequence_length, english_vocab_size, french_vocab_size):\n",
    "    \"\"\"\n",
    "    Build and train a basic RNN on x and y\n",
    "    :param input_shape: Tuple of input shape\n",
    "    :param output_sequence_length: Length of output sequence\n",
    "    :param english_vocab_size: Number of unique English words in the dataset\n",
    "    :param french_vocab_size: Number of unique French words in the dataset\n",
    "    :return: Keras model built, but not trained\n",
    "    \"\"\"\n",
    "    # TODO: Build the layers\n",
    "    hidden_size = 128\n",
    "    learning_rate = 1e-3\n",
    "    \n",
    "    input_seq = Input(input_shape[1:]) #length of each sequence: 21x1 in this case\n",
    "    rnn = LSTM(hidden_size, return_sequences=True)(input_seq)\n",
    "    # TimeDistributedDense applies a same Dense (fully-connected) operation to the \n",
    "    # 3D tensor output of the RNN at every timestep\n",
    "    # RNN will have an output at every timestep\n",
    "    logits = TimeDistributed(Dense(french_vocab_size, activation='softmax'))(rnn)\n",
    "    \n",
    "    model = Model(inputs=input_seq, outputs=logits)\n",
    "    model.compile(loss=sparse_categorical_crossentropy,\n",
    "                  optimizer=Adam(learning_rate),\n",
    "                  metrics=['accuracy'])\n",
    "    return model\n",
    "tests.test_simple_model(simple_model)\n",
    "\n",
    "# Reshaping the input to work with a basic RNN\n",
    "# pad the english sentences to the same length as the max length of french sentences\n",
    "tmp_x = pad(preproc_english_sentences, max_french_sequence_length)\n",
    "# convert english sentences sequences into 3 dimensions\n",
    "tmp_x = tmp_x.reshape((-1, preproc_french_sentences.shape[-2], 1))\n",
    "\n",
    "# Train the neural network\n",
    "simple_rnn_model = simple_model(\n",
    "    tmp_x.shape,\n",
    "    max_french_sequence_length,\n",
    "    english_vocab_size,\n",
    "    french_vocab_size)\n",
    "simple_rnn_model.fit(tmp_x, preproc_french_sentences, batch_size=1024, epochs=20, validation_split=0.2)\n",
    "\n",
    "# Print prediction(s)\n",
    "print(logits_to_text(simple_rnn_model.predict(tmp_x[:1])[0], french_tokenizer))"
   ]
  },
  {
   "cell_type": "code",
   "execution_count": 16,
   "metadata": {},
   "outputs": [
    {
     "name": "stdout",
     "output_type": "stream",
     "text": [
      "Sentence  0\n",
      "Original English sentence: new jersey is sometimes quiet during autumn , and it is snowy in april .\n",
      "Original French sentence: new jersey est parfois calme pendant l' automne , et il est neigeux en avril .\n",
      "Translated French Sentence: new jersey est parfois calme en l' et il est il est en en <PAD> <PAD> <PAD> <PAD> <PAD> <PAD> <PAD> \n",
      "\n",
      "Sentence  1\n",
      "Original English sentence: the united states is usually chilly during july , and it is usually freezing in november .\n",
      "Original French sentence: les états-unis est généralement froid en juillet , et il gèle habituellement en novembre .\n",
      "Translated French Sentence: les états unis est généralement froid en l' et il est généralement agréable en en <PAD> <PAD> <PAD> <PAD> <PAD> <PAD> \n",
      "\n",
      "Sentence  2\n",
      "Original English sentence: california is usually quiet during march , and it is usually hot in june .\n",
      "Original French sentence: california est généralement calme en mars , et il est généralement chaud en juin .\n",
      "Translated French Sentence: la est est calme en en et il il est est en en <PAD> <PAD> <PAD> <PAD> <PAD> <PAD> <PAD> <PAD> \n",
      "\n",
      "Sentence  3\n",
      "Original English sentence: the united states is sometimes mild during june , and it is cold in september .\n",
      "Original French sentence: les états-unis est parfois légère en juin , et il fait froid en septembre .\n",
      "Translated French Sentence: les états unis est parfois pluvieux en l' et il est est en en <PAD> <PAD> <PAD> <PAD> <PAD> <PAD> <PAD> \n",
      "\n",
      "Sentence  4\n",
      "Original English sentence: your least liked fruit is the grape , but my least liked is the apple .\n",
      "Original French sentence: votre moins aimé fruit est le raisin , mais mon moins aimé est la pomme .\n",
      "Translated French Sentence: elle fruit est moins aimé la raisin mais mon moins aimé est la raisin <PAD> <PAD> <PAD> <PAD> <PAD> <PAD> <PAD> \n",
      "\n"
     ]
    }
   ],
   "source": [
    "for i in range(5):\n",
    "    print(\"Sentence \", i)\n",
    "    print(\"Original English sentence: {}\".format(english_sentences[i]))\n",
    "    print(\"Original French sentence: {}\".format(french_sentences[i]))\n",
    "    print(\"Translated French Sentence: {} \\n\".format(logits_to_text(simple_rnn_model.predict(tmp_x[i:i+1])[0], french_tokenizer)))"
   ]
  },
  {
   "cell_type": "code",
   "execution_count": null,
   "metadata": {},
   "outputs": [],
   "source": []
  },
  {
   "cell_type": "code",
   "execution_count": 12,
   "metadata": {
    "scrolled": true
   },
   "outputs": [
    {
     "data": {
      "text/plain": [
       "array([[17],\n",
       "       [23],\n",
       "       [ 1],\n",
       "       [ 8],\n",
       "       [67],\n",
       "       [ 4],\n",
       "       [39],\n",
       "       [ 7],\n",
       "       [ 3],\n",
       "       [ 1],\n",
       "       [55],\n",
       "       [ 2],\n",
       "       [44],\n",
       "       [ 0],\n",
       "       [ 0],\n",
       "       [ 0],\n",
       "       [ 0],\n",
       "       [ 0],\n",
       "       [ 0],\n",
       "       [ 0],\n",
       "       [ 0]], dtype=int32)"
      ]
     },
     "execution_count": 12,
     "metadata": {},
     "output_type": "execute_result"
    }
   ],
   "source": [
    "# view results\n",
    "tmp_x = pad(preproc_english_sentences, max_french_sequence_length)\n",
    "tmp_x = tmp_x.reshape((-1, preproc_french_sentences.shape[-2], 1))\n",
    "tmp_x[0]"
   ]
  },
  {
   "cell_type": "code",
   "execution_count": 27,
   "metadata": {},
   "outputs": [
    {
     "data": {
      "text/plain": [
       "array([[[17],\n",
       "        [23],\n",
       "        [ 1],\n",
       "        [ 8],\n",
       "        [67],\n",
       "        [ 4],\n",
       "        [39],\n",
       "        [ 7],\n",
       "        [ 3],\n",
       "        [ 1],\n",
       "        [55],\n",
       "        [ 2],\n",
       "        [44],\n",
       "        [ 0],\n",
       "        [ 0],\n",
       "        [ 0],\n",
       "        [ 0],\n",
       "        [ 0],\n",
       "        [ 0],\n",
       "        [ 0],\n",
       "        [ 0]]], dtype=int32)"
      ]
     },
     "execution_count": 27,
     "metadata": {},
     "output_type": "execute_result"
    }
   ],
   "source": [
    "tmp_x[:1]"
   ]
  },
  {
   "cell_type": "code",
   "execution_count": 25,
   "metadata": {},
   "outputs": [
    {
     "data": {
      "text/plain": [
       "(21, 1)"
      ]
     },
     "execution_count": 25,
     "metadata": {},
     "output_type": "execute_result"
    }
   ],
   "source": [
    "tmp_x[0].shape"
   ]
  },
  {
   "cell_type": "code",
   "execution_count": 26,
   "metadata": {},
   "outputs": [
    {
     "data": {
      "text/plain": [
       "(1, 21, 1)"
      ]
     },
     "execution_count": 26,
     "metadata": {},
     "output_type": "execute_result"
    }
   ],
   "source": [
    "tmp_x[:1].shape"
   ]
  },
  {
   "cell_type": "markdown",
   "metadata": {},
   "source": [
    "### Model 2: Embedding (IMPLEMENTATION)\n",
    "![RNN](images/embedding.png)\n",
    "You've turned the words into ids, but there's a better representation of a word.  This is called word embeddings.  An embedding is a vector representation of the word that is close to similar words in n-dimensional space, where the n represents the size of the embedding vectors.\n",
    "\n",
    "In this model, you'll create a RNN model using embedding."
   ]
  },
  {
   "cell_type": "code",
   "execution_count": 17,
   "metadata": {
    "scrolled": true
   },
   "outputs": [
    {
     "name": "stdout",
     "output_type": "stream",
     "text": [
      "Train on 110288 samples, validate on 27573 samples\n",
      "Epoch 1/20\n",
      "110288/110288 [==============================] - 11s 96us/step - loss: 3.4155 - acc: 0.4124 - val_loss: nan - val_acc: 0.4751\n",
      "Epoch 2/20\n",
      "110288/110288 [==============================] - 10s 92us/step - loss: 2.4105 - acc: 0.4913 - val_loss: nan - val_acc: 0.5145\n",
      "Epoch 3/20\n",
      "110288/110288 [==============================] - 10s 92us/step - loss: 1.8963 - acc: 0.5471 - val_loss: nan - val_acc: 0.5938\n",
      "Epoch 4/20\n",
      "110288/110288 [==============================] - 10s 92us/step - loss: 1.5541 - acc: 0.6223 - val_loss: nan - val_acc: 0.6447\n",
      "Epoch 5/20\n",
      "110288/110288 [==============================] - 10s 92us/step - loss: 1.2950 - acc: 0.6760 - val_loss: nan - val_acc: 0.7110\n",
      "Epoch 6/20\n",
      "110288/110288 [==============================] - 10s 92us/step - loss: 1.0664 - acc: 0.7331 - val_loss: nan - val_acc: 0.7595\n",
      "Epoch 7/20\n",
      "110288/110288 [==============================] - 10s 92us/step - loss: 0.8843 - acc: 0.7735 - val_loss: nan - val_acc: 0.7868\n",
      "Epoch 8/20\n",
      "110288/110288 [==============================] - 10s 92us/step - loss: 0.7480 - acc: 0.7953 - val_loss: nan - val_acc: 0.8074\n",
      "Epoch 9/20\n",
      "110288/110288 [==============================] - 10s 91us/step - loss: 0.6494 - acc: 0.8156 - val_loss: nan - val_acc: 0.8236\n",
      "Epoch 10/20\n",
      "110288/110288 [==============================] - 10s 92us/step - loss: 0.5821 - acc: 0.8305 - val_loss: nan - val_acc: 0.8321\n",
      "Epoch 11/20\n",
      "110288/110288 [==============================] - 10s 92us/step - loss: 0.5304 - acc: 0.8438 - val_loss: nan - val_acc: 0.8513\n",
      "Epoch 12/20\n",
      "110288/110288 [==============================] - 10s 92us/step - loss: 0.4880 - acc: 0.8555 - val_loss: nan - val_acc: 0.8611\n",
      "Epoch 13/20\n",
      "110288/110288 [==============================] - 10s 92us/step - loss: 0.4544 - acc: 0.8643 - val_loss: nan - val_acc: 0.8691\n",
      "Epoch 14/20\n",
      "110288/110288 [==============================] - 10s 92us/step - loss: 0.4274 - acc: 0.8714 - val_loss: nan - val_acc: 0.8757\n",
      "Epoch 15/20\n",
      "110288/110288 [==============================] - 10s 92us/step - loss: 0.4012 - acc: 0.8785 - val_loss: nan - val_acc: 0.8808\n",
      "Epoch 16/20\n",
      "110288/110288 [==============================] - 10s 92us/step - loss: 0.3806 - acc: 0.8840 - val_loss: nan - val_acc: 0.8874\n",
      "Epoch 17/20\n",
      "110288/110288 [==============================] - 10s 92us/step - loss: 0.3618 - acc: 0.8892 - val_loss: nan - val_acc: 0.8915\n",
      "Epoch 18/20\n",
      "110288/110288 [==============================] - 10s 92us/step - loss: 0.3450 - acc: 0.8941 - val_loss: nan - val_acc: 0.8952\n",
      "Epoch 19/20\n",
      "110288/110288 [==============================] - 10s 92us/step - loss: 0.3325 - acc: 0.8974 - val_loss: nan - val_acc: 0.8958\n",
      "Epoch 20/20\n",
      "110288/110288 [==============================] - 10s 92us/step - loss: 0.3199 - acc: 0.9009 - val_loss: nan - val_acc: 0.9024\n"
     ]
    },
    {
     "data": {
      "text/plain": [
       "<keras.callbacks.History at 0x7f8a218a20b8>"
      ]
     },
     "execution_count": 17,
     "metadata": {},
     "output_type": "execute_result"
    }
   ],
   "source": [
    "def embed_model(input_shape, output_sequence_length, english_vocab_size, french_vocab_size):\n",
    "    \"\"\"\n",
    "    Build and train a RNN model using word embedding on x and y\n",
    "    :param input_shape: Tuple of input shape\n",
    "    :param output_sequence_length: Length of output sequence\n",
    "    :param english_vocab_size: Number of unique English words in the dataset\n",
    "    :param french_vocab_size: Number of unique French words in the dataset\n",
    "    :return: Keras model built, but not trained\n",
    "    \"\"\"\n",
    "    # TODO: Implement\n",
    "    hidden_size = 128\n",
    "    learning_rate = 1e-3\n",
    "    embedding_size = 100\n",
    "    \n",
    "    input_seq = Input(input_shape[1:]) #length of each sequence: 21x1 in this case\n",
    "    embed_out = Embedding(input_dim=english_vocab_size,\\\n",
    "                          output_dim=embedding_size,\\\n",
    "                          input_length=input_shape[1])(input_seq)\n",
    "    rnn = LSTM(hidden_size, return_sequences=True)(embed_out)\n",
    "    logits = TimeDistributed(Dense(french_vocab_size, activation='softmax'))(rnn)\n",
    "    \n",
    "    model = Model(inputs=input_seq, outputs=logits)\n",
    "    model.compile(loss=sparse_categorical_crossentropy,\n",
    "                  optimizer=Adam(learning_rate),\n",
    "                  metrics=['accuracy'])\n",
    "    \n",
    "    return model\n",
    "tests.test_embed_model(embed_model)\n",
    "\n",
    "\n",
    "# TODO: Reshape the input\n",
    "# pad the english sentences to the same length as the max length of french sentences\n",
    "tmp_x = pad(preproc_english_sentences, max_french_sequence_length)\n",
    "# convert english sentences sequences into 3 dimensions\n",
    "#tmp_x = tmp_x.reshape((-1, preproc_french_sentences.shape[-2], 1)) # don;t need if using Embedding layer\n",
    "\n",
    "# TODO: Train the neural network\n",
    "embed_rnn_model = embed_model(tmp_x.shape,\\\n",
    "                              max_french_sequence_length,\\\n",
    "                              english_vocab_size,\\\n",
    "                              french_vocab_size\n",
    "                             )\n",
    "embed_rnn_model.fit(tmp_x, preproc_french_sentences, batch_size=1024, epochs=20, validation_split=0.2)\n",
    "\n",
    "# TODO: Print prediction(s)"
   ]
  },
  {
   "cell_type": "code",
   "execution_count": 18,
   "metadata": {},
   "outputs": [
    {
     "name": "stdout",
     "output_type": "stream",
     "text": [
      "Sentence  0\n",
      "Original English sentence: new jersey is sometimes quiet during autumn , and it is snowy in april .\n",
      "Original French sentence: new jersey est parfois calme pendant l' automne , et il est neigeux en avril .\n",
      "Translated French Sentence: new jersey est parfois calme en l' et il est est neigeux en avril <PAD> <PAD> <PAD> <PAD> <PAD> <PAD> <PAD> \n",
      "\n",
      "Sentence  1\n",
      "Original English sentence: the united states is usually chilly during july , and it is usually freezing in november .\n",
      "Original French sentence: les états-unis est généralement froid en juillet , et il gèle habituellement en novembre .\n",
      "Translated French Sentence: les états unis est généralement froid en juillet et il est généralement en en <PAD> <PAD> <PAD> <PAD> <PAD> <PAD> <PAD> \n",
      "\n",
      "Sentence  2\n",
      "Original English sentence: california is usually quiet during march , and it is usually hot in june .\n",
      "Original French sentence: california est généralement calme en mars , et il est généralement chaud en juin .\n",
      "Translated French Sentence: californie est généralement calme en mars et il est généralement chaud en juin <PAD> <PAD> <PAD> <PAD> <PAD> <PAD> <PAD> <PAD> \n",
      "\n",
      "Sentence  3\n",
      "Original English sentence: the united states is sometimes mild during june , and it is cold in september .\n",
      "Original French sentence: les états-unis est parfois légère en juin , et il fait froid en septembre .\n",
      "Translated French Sentence: les états unis est parfois doux en juin et il est froid en septembre <PAD> <PAD> <PAD> <PAD> <PAD> <PAD> <PAD> \n",
      "\n",
      "Sentence  4\n",
      "Original English sentence: your least liked fruit is the grape , but my least liked is the apple .\n",
      "Original French sentence: votre moins aimé fruit est le raisin , mais mon moins aimé est la pomme .\n",
      "Translated French Sentence: votre fruit aimé fruit est la raisin mais mon moins aimé est la pomme <PAD> <PAD> <PAD> <PAD> <PAD> <PAD> <PAD> \n",
      "\n"
     ]
    }
   ],
   "source": [
    "for i in range(5):\n",
    "    print(\"Sentence \", i)\n",
    "    print(\"Original English sentence: {}\".format(english_sentences[i]))\n",
    "    print(\"Original French sentence: {}\".format(french_sentences[i]))\n",
    "    print(\"Translated French Sentence: {} \\n\".format(logits_to_text(embed_rnn_model.predict(tmp_x[i:i+1])[0], french_tokenizer)))"
   ]
  },
  {
   "cell_type": "markdown",
   "metadata": {},
   "source": [
    "### Model 3: Bidirectional RNNs (IMPLEMENTATION)\n",
    "![RNN](images/bidirectional.png)\n",
    "One restriction of a RNN is that it can't see the future input, only the past.  This is where bidirectional recurrent neural networks come in.  They are able to see the future data."
   ]
  },
  {
   "cell_type": "code",
   "execution_count": 19,
   "metadata": {
    "scrolled": true
   },
   "outputs": [
    {
     "name": "stdout",
     "output_type": "stream",
     "text": [
      "Train on 110288 samples, validate on 27573 samples\n",
      "Epoch 1/20\n",
      "110288/110288 [==============================] - 15s 132us/step - loss: 2.6161 - acc: 0.4930 - val_loss: nan - val_acc: 0.5675\n",
      "Epoch 2/20\n",
      "110288/110288 [==============================] - 14s 125us/step - loss: 1.5716 - acc: 0.5951 - val_loss: nan - val_acc: 0.6162\n",
      "Epoch 3/20\n",
      "110288/110288 [==============================] - 14s 125us/step - loss: 1.3863 - acc: 0.6238 - val_loss: nan - val_acc: 0.6320\n",
      "Epoch 4/20\n",
      "110288/110288 [==============================] - 14s 124us/step - loss: 1.2829 - acc: 0.6403 - val_loss: nan - val_acc: 0.6485\n",
      "Epoch 5/20\n",
      "110288/110288 [==============================] - 14s 125us/step - loss: 1.2166 - acc: 0.6521 - val_loss: nan - val_acc: 0.6555\n",
      "Epoch 6/20\n",
      "110288/110288 [==============================] - 14s 125us/step - loss: 1.1684 - acc: 0.6622 - val_loss: nan - val_acc: 0.6658\n",
      "Epoch 7/20\n",
      "110288/110288 [==============================] - 14s 125us/step - loss: 1.1280 - acc: 0.6705 - val_loss: nan - val_acc: 0.6728\n",
      "Epoch 8/20\n",
      "110288/110288 [==============================] - 14s 124us/step - loss: 1.0936 - acc: 0.6761 - val_loss: nan - val_acc: 0.6804\n",
      "Epoch 9/20\n",
      "110288/110288 [==============================] - 14s 124us/step - loss: 1.0640 - acc: 0.6811 - val_loss: nan - val_acc: 0.6845\n",
      "Epoch 10/20\n",
      "110288/110288 [==============================] - 14s 125us/step - loss: 1.0399 - acc: 0.6860 - val_loss: nan - val_acc: 0.6901\n",
      "Epoch 11/20\n",
      "110288/110288 [==============================] - 14s 125us/step - loss: 1.0190 - acc: 0.6892 - val_loss: nan - val_acc: 0.6905\n",
      "Epoch 12/20\n",
      "110288/110288 [==============================] - 14s 125us/step - loss: 1.0007 - acc: 0.6927 - val_loss: nan - val_acc: 0.6912\n",
      "Epoch 13/20\n",
      "110288/110288 [==============================] - 14s 125us/step - loss: 0.9851 - acc: 0.6951 - val_loss: nan - val_acc: 0.6977\n",
      "Epoch 14/20\n",
      "110288/110288 [==============================] - 14s 125us/step - loss: 0.9718 - acc: 0.6975 - val_loss: nan - val_acc: 0.6973\n",
      "Epoch 15/20\n",
      "110288/110288 [==============================] - 14s 125us/step - loss: 0.9586 - acc: 0.7000 - val_loss: nan - val_acc: 0.6988\n",
      "Epoch 16/20\n",
      "110288/110288 [==============================] - 14s 125us/step - loss: 0.9452 - acc: 0.7028 - val_loss: nan - val_acc: 0.7027\n",
      "Epoch 17/20\n",
      "110288/110288 [==============================] - 14s 125us/step - loss: 0.9348 - acc: 0.7047 - val_loss: nan - val_acc: 0.7038\n",
      "Epoch 18/20\n",
      "110288/110288 [==============================] - 14s 124us/step - loss: 0.9231 - acc: 0.7067 - val_loss: nan - val_acc: 0.7078\n",
      "Epoch 19/20\n",
      "110288/110288 [==============================] - 14s 124us/step - loss: 0.9132 - acc: 0.7085 - val_loss: nan - val_acc: 0.7098\n",
      "Epoch 20/20\n",
      "110288/110288 [==============================] - 14s 125us/step - loss: 0.9025 - acc: 0.7102 - val_loss: nan - val_acc: 0.7108\n"
     ]
    },
    {
     "data": {
      "text/plain": [
       "<keras.callbacks.History at 0x7f89e9e46c50>"
      ]
     },
     "execution_count": 19,
     "metadata": {},
     "output_type": "execute_result"
    }
   ],
   "source": [
    "def bd_model(input_shape, output_sequence_length, english_vocab_size, french_vocab_size):\n",
    "    \"\"\"\n",
    "    Build and train a bidirectional RNN model on x and y\n",
    "    :param input_shape: Tuple of input shape\n",
    "    :param output_sequence_length: Length of output sequence\n",
    "    :param english_vocab_size: Number of unique English words in the dataset\n",
    "    :param french_vocab_size: Number of unique French words in the dataset\n",
    "    :return: Keras model built, but not trained\n",
    "    \"\"\"\n",
    "    # TODO: Implement\n",
    "    hidden_size = 128\n",
    "    learning_rate = 1e-3\n",
    "    embedding_size = 100\n",
    "    \n",
    "    input_seq = Input(input_shape[1:]) #length of each sequence: 21x1 in this case\n",
    "    rnn = Bidirectional(LSTM(hidden_size, return_sequences=True))(input_seq)\n",
    "    logits = TimeDistributed(Dense(french_vocab_size, activation='softmax'))(rnn)\n",
    "    \n",
    "    model = Model(inputs=input_seq, outputs=logits)\n",
    "    model.compile(loss=sparse_categorical_crossentropy,\n",
    "                  optimizer=Adam(learning_rate),\n",
    "                  metrics=['accuracy'])\n",
    "    \n",
    "    return model\n",
    "tests.test_bd_model(bd_model)\n",
    "\n",
    "\n",
    "# TODO: Train and Print prediction(s)\n",
    "# pad the english sentences to the same length as the max length of french sentences\n",
    "tmp_x = pad(preproc_english_sentences, max_french_sequence_length)\n",
    "# convert english sentences sequences into 3 dimensions\n",
    "tmp_x = tmp_x.reshape((-1, preproc_french_sentences.shape[-2], 1)) # don't need if using Embedding layer\n",
    "\n",
    "# TODO: Train the neural network\n",
    "bd_rnn_model = bd_model(tmp_x.shape,\\\n",
    "                        max_french_sequence_length,\\\n",
    "                        english_vocab_size,\\\n",
    "                        french_vocab_size\n",
    "                       )\n",
    "bd_rnn_model.fit(tmp_x, preproc_french_sentences, batch_size=1024, epochs=20, validation_split=0.2)"
   ]
  },
  {
   "cell_type": "code",
   "execution_count": 20,
   "metadata": {},
   "outputs": [
    {
     "name": "stdout",
     "output_type": "stream",
     "text": [
      "Sentence  0\n",
      "Original English sentence: new jersey is sometimes quiet during autumn , and it is snowy in april .\n",
      "Original French sentence: new jersey est parfois calme pendant l' automne , et il est neigeux en avril .\n",
      "Translated French Sentence: new jersey est parfois calme en mois et il il il en en en <PAD> <PAD> <PAD> <PAD> <PAD> <PAD> <PAD> \n",
      "\n",
      "Sentence  1\n",
      "Original English sentence: the united states is usually chilly during july , and it is usually freezing in november .\n",
      "Original French sentence: les états-unis est généralement froid en juillet , et il gèle habituellement en novembre .\n",
      "Translated French Sentence: les états unis est généralement froid en mois et il est généralement agréable en en <PAD> <PAD> <PAD> <PAD> <PAD> <PAD> \n",
      "\n",
      "Sentence  2\n",
      "Original English sentence: california is usually quiet during march , and it is usually hot in june .\n",
      "Original French sentence: california est généralement calme en mars , et il est généralement chaud en juin .\n",
      "Translated French Sentence: californie est est généralement en en et et il est est en en <PAD> <PAD> <PAD> <PAD> <PAD> <PAD> <PAD> <PAD> \n",
      "\n",
      "Sentence  3\n",
      "Original English sentence: the united states is sometimes mild during june , and it is cold in september .\n",
      "Original French sentence: les états-unis est parfois légère en juin , et il fait froid en septembre .\n",
      "Translated French Sentence: les états unis est parfois pluvieux en juin et il est est en en <PAD> <PAD> <PAD> <PAD> <PAD> <PAD> <PAD> \n",
      "\n",
      "Sentence  4\n",
      "Original English sentence: your least liked fruit is the grape , but my least liked is the apple .\n",
      "Original French sentence: votre moins aimé fruit est le raisin , mais mon moins aimé est la pomme .\n",
      "Translated French Sentence: votre fruit est moins aimé le raisin mais mon moins aimé est la <PAD> <PAD> <PAD> <PAD> <PAD> <PAD> <PAD> <PAD> \n",
      "\n"
     ]
    }
   ],
   "source": [
    "# Print prediction(s)\n",
    "for i in range(5):\n",
    "    print(\"Sentence \", i)\n",
    "    print(\"Original English sentence: {}\".format(english_sentences[i]))\n",
    "    print(\"Original French sentence: {}\".format(french_sentences[i]))\n",
    "    print(\"Translated French Sentence: {} \\n\".format(logits_to_text(bd_rnn_model.predict(tmp_x[i:i+1])[0], french_tokenizer)))"
   ]
  },
  {
   "cell_type": "markdown",
   "metadata": {},
   "source": [
    "### Model 4: Encoder-Decoder (OPTIONAL)\n",
    "Time to look at encoder-decoder models.  This model is made up of an encoder and decoder. The encoder creates a matrix representation of the sentence.  The decoder takes this matrix as input and predicts the translation as output.\n",
    "\n",
    "Create an encoder-decoder model in the cell below."
   ]
  },
  {
   "cell_type": "code",
   "execution_count": 31,
   "metadata": {
    "scrolled": true
   },
   "outputs": [
    {
     "name": "stdout",
     "output_type": "stream",
     "text": [
      "Train on 110288 samples, validate on 27573 samples\n",
      "Epoch 1/20\n",
      "110288/110288 [==============================] - 17s 152us/step - loss: 3.0811 - acc: 0.4385 - val_loss: nan - val_acc: 0.4756\n",
      "Epoch 2/20\n",
      "110288/110288 [==============================] - 15s 135us/step - loss: 2.3159 - acc: 0.4966 - val_loss: nan - val_acc: 0.5170\n",
      "Epoch 3/20\n",
      "110288/110288 [==============================] - 15s 136us/step - loss: 2.0830 - acc: 0.5320 - val_loss: nan - val_acc: 0.5411\n",
      "Epoch 4/20\n",
      "110288/110288 [==============================] - 15s 134us/step - loss: 1.7993 - acc: 0.5520 - val_loss: nan - val_acc: 0.5646\n",
      "Epoch 5/20\n",
      "110288/110288 [==============================] - 15s 134us/step - loss: 1.6668 - acc: 0.5714 - val_loss: nan - val_acc: 0.5729\n",
      "Epoch 6/20\n",
      "110288/110288 [==============================] - 15s 135us/step - loss: 1.6000 - acc: 0.5792 - val_loss: nan - val_acc: 0.5856\n",
      "Epoch 7/20\n",
      "110288/110288 [==============================] - 15s 136us/step - loss: 1.5383 - acc: 0.5877 - val_loss: nan - val_acc: 0.5947\n",
      "Epoch 8/20\n",
      "110288/110288 [==============================] - 15s 134us/step - loss: 1.4873 - acc: 0.5960 - val_loss: nan - val_acc: 0.6036\n",
      "Epoch 9/20\n",
      "110288/110288 [==============================] - 15s 135us/step - loss: 1.4427 - acc: 0.6070 - val_loss: nan - val_acc: 0.6128\n",
      "Epoch 10/20\n",
      "110288/110288 [==============================] - 15s 135us/step - loss: 1.4071 - acc: 0.6138 - val_loss: nan - val_acc: 0.6163\n",
      "Epoch 11/20\n",
      "110288/110288 [==============================] - 15s 135us/step - loss: 1.3754 - acc: 0.6203 - val_loss: nan - val_acc: 0.6243\n",
      "Epoch 12/20\n",
      "110288/110288 [==============================] - 15s 134us/step - loss: 1.3518 - acc: 0.6249 - val_loss: nan - val_acc: 0.6251\n",
      "Epoch 13/20\n",
      "110288/110288 [==============================] - 15s 135us/step - loss: 1.3285 - acc: 0.6286 - val_loss: nan - val_acc: 0.6244\n",
      "Epoch 14/20\n",
      "110288/110288 [==============================] - 15s 135us/step - loss: 1.3095 - acc: 0.6317 - val_loss: nan - val_acc: 0.6327\n",
      "Epoch 15/20\n",
      "110288/110288 [==============================] - 15s 135us/step - loss: 1.2916 - acc: 0.6354 - val_loss: nan - val_acc: 0.6297\n",
      "Epoch 16/20\n",
      "110288/110288 [==============================] - 15s 135us/step - loss: 1.2775 - acc: 0.6402 - val_loss: nan - val_acc: 0.6331\n",
      "Epoch 17/20\n",
      "110288/110288 [==============================] - 15s 135us/step - loss: 1.2669 - acc: 0.6426 - val_loss: nan - val_acc: 0.6344\n",
      "Epoch 18/20\n",
      "110288/110288 [==============================] - 15s 135us/step - loss: 1.2469 - acc: 0.6485 - val_loss: nan - val_acc: 0.6451\n",
      "Epoch 19/20\n",
      "110288/110288 [==============================] - 15s 136us/step - loss: 1.2243 - acc: 0.6544 - val_loss: nan - val_acc: 0.6549\n",
      "Epoch 20/20\n",
      "110288/110288 [==============================] - 15s 134us/step - loss: 1.2005 - acc: 0.6595 - val_loss: nan - val_acc: 0.6650\n"
     ]
    },
    {
     "data": {
      "text/plain": [
       "<keras.callbacks.History at 0x7f89bbda6d30>"
      ]
     },
     "execution_count": 31,
     "metadata": {},
     "output_type": "execute_result"
    }
   ],
   "source": [
    "def encdec_model(input_shape, output_sequence_length, english_vocab_size, french_vocab_size):\n",
    "    \"\"\"\n",
    "    Build and train an encoder-decoder model on x and y\n",
    "    :param input_shape: Tuple of input shape\n",
    "    :param output_sequence_length: Length of output sequence\n",
    "    :param english_vocab_size: Number of unique English words in the dataset\n",
    "    :param french_vocab_size: Number of unique French words in the dataset\n",
    "    :return: Keras model built, but not trained\n",
    "    \"\"\"\n",
    "    # OPTIONAL: Implement\n",
    "    hidden_size = 128\n",
    "    learning_rate = 1e-3\n",
    "    embedding_size = 100\n",
    "    \n",
    "    input_seq = Input(input_shape[1:])\n",
    "    encoder = LSTM(hidden_size)(input_seq)\n",
    "    # repeat the encoder output 21/output_sequence_length times\n",
    "    # at each timestep of decoder, decoder will take in the same output of the encoder\n",
    "    repeat_vector = RepeatVector(output_sequence_length)(encoder)\n",
    "    decoder = LSTM(hidden_size, return_sequences=True)(repeat_vector)\n",
    "    logits = TimeDistributed(Dense(french_vocab_size, activation='softmax'))(decoder)\n",
    "    \n",
    "    model = Model(inputs=input_seq, outputs=logits)\n",
    "    model.compile(loss=sparse_categorical_crossentropy,\n",
    "                  optimizer=Adam(learning_rate),\n",
    "                  metrics=['accuracy'])\n",
    "    # return trained \n",
    "    return model\n",
    "    \n",
    "tests.test_encdec_model(encdec_model)\n",
    "\n",
    "\n",
    "# OPTIONAL: Train and Print prediction(s)\n",
    "# pad the english sentences to the same length as the max length of french sentences\n",
    "tmp_x = pad(preproc_english_sentences, max_french_sequence_length)\n",
    "# convert english sentences sequences into 3 dimensions\n",
    "tmp_x = tmp_x.reshape((-1, preproc_french_sentences.shape[-2], 1)) # don't need if using Embedding layer\n",
    "\n",
    "# TODO: Train the neural network\n",
    "encdec_model = encdec_model(tmp_x.shape,\\\n",
    "                            max_french_sequence_length,\\\n",
    "                            english_vocab_size,\\\n",
    "                            french_vocab_size\n",
    "                           )\n",
    "encdec_model.fit(tmp_x, preproc_french_sentences, batch_size=1024, epochs=20, validation_split=0.2)"
   ]
  },
  {
   "cell_type": "code",
   "execution_count": 32,
   "metadata": {},
   "outputs": [
    {
     "name": "stdout",
     "output_type": "stream",
     "text": [
      "Sentence  0\n",
      "Original English sentence: new jersey is sometimes quiet during autumn , and it is snowy in april .\n",
      "Original French sentence: new jersey est parfois calme pendant l' automne , et il est neigeux en avril .\n",
      "Translated French Sentence: new jersey est parfois calme en mois et il il il en en en <PAD> <PAD> <PAD> <PAD> <PAD> <PAD> <PAD> \n",
      "\n",
      "Sentence  1\n",
      "Original English sentence: the united states is usually chilly during july , and it is usually freezing in november .\n",
      "Original French sentence: les états-unis est généralement froid en juillet , et il gèle habituellement en novembre .\n",
      "Translated French Sentence: les états unis est généralement froid en mois et il est généralement agréable en en <PAD> <PAD> <PAD> <PAD> <PAD> <PAD> \n",
      "\n",
      "Sentence  2\n",
      "Original English sentence: california is usually quiet during march , and it is usually hot in june .\n",
      "Original French sentence: california est généralement calme en mars , et il est généralement chaud en juin .\n",
      "Translated French Sentence: californie est est généralement en en et et il est est en en <PAD> <PAD> <PAD> <PAD> <PAD> <PAD> <PAD> <PAD> \n",
      "\n",
      "Sentence  3\n",
      "Original English sentence: the united states is sometimes mild during june , and it is cold in september .\n",
      "Original French sentence: les états-unis est parfois légère en juin , et il fait froid en septembre .\n",
      "Translated French Sentence: les états unis est parfois pluvieux en juin et il est est en en <PAD> <PAD> <PAD> <PAD> <PAD> <PAD> <PAD> \n",
      "\n",
      "Sentence  4\n",
      "Original English sentence: your least liked fruit is the grape , but my least liked is the apple .\n",
      "Original French sentence: votre moins aimé fruit est le raisin , mais mon moins aimé est la pomme .\n",
      "Translated French Sentence: votre fruit est moins aimé le raisin mais mon moins aimé est la <PAD> <PAD> <PAD> <PAD> <PAD> <PAD> <PAD> <PAD> \n",
      "\n"
     ]
    }
   ],
   "source": [
    "# Print prediction(s)\n",
    "for i in range(5):\n",
    "    print(\"Sentence \", i)\n",
    "    print(\"Original English sentence: {}\".format(english_sentences[i]))\n",
    "    print(\"Original French sentence: {}\".format(french_sentences[i]))\n",
    "    print(\"Translated French Sentence: {} \\n\".format(logits_to_text(bd_rnn_model.predict(tmp_x[i:i+1])[0], french_tokenizer)))"
   ]
  },
  {
   "cell_type": "markdown",
   "metadata": {},
   "source": [
    "### Model 5: Custom (IMPLEMENTATION)\n",
    "Use everything you learned from the previous models to create a model that incorporates embedding and a bidirectional rnn into one model."
   ]
  },
  {
   "cell_type": "code",
   "execution_count": 11,
   "metadata": {
    "scrolled": true
   },
   "outputs": [
    {
     "name": "stdout",
     "output_type": "stream",
     "text": [
      "Final Model Loaded\n"
     ]
    }
   ],
   "source": [
    "def model_final(input_shape, output_sequence_length, english_vocab_size, french_vocab_size):\n",
    "    \"\"\"\n",
    "    Build and train a model that incorporates embedding, encoder-decoder, and bidirectional RNN on x and y\n",
    "    :param input_shape: Tuple of input shape\n",
    "    :param output_sequence_length: Length of output sequence\n",
    "    :param english_vocab_size: Number of unique English words in the dataset\n",
    "    :param french_vocab_size: Number of unique French words in the dataset\n",
    "    :return: Keras model built, but not trained\n",
    "    \"\"\"\n",
    "    # TODO: Implement\n",
    "    hidden_size = 128\n",
    "    learning_rate = 1e-3\n",
    "    embedding_size = 100\n",
    "    \n",
    "    input_seq = Input(input_shape[1:]) #length of each sequence: 21x1 in this case\n",
    "    embed_out = Embedding(input_dim=english_vocab_size,\\\n",
    "                          output_dim=embedding_size,\\\n",
    "                          input_length=input_shape[1])(input_seq)\n",
    "    # Encoder\n",
    "    encoder = Bidirectional(LSTM(hidden_size))(embed_out)\n",
    "    # repeat the encoder output 21/output_sequence_length times\n",
    "    # at each timestep of decoder, decoder will take in the same output of the encoder\n",
    "    repeat_vector = RepeatVector(output_sequence_length)(encoder)\n",
    "    # Decoder\n",
    "    decoder = LSTM(hidden_size, return_sequences=True)(repeat_vector)\n",
    "    # Dense layer\n",
    "    logits = TimeDistributed(Dense(french_vocab_size, activation='softmax'))(decoder)\n",
    "    \n",
    "    model = Model(inputs=input_seq, outputs=logits)\n",
    "    model.compile(loss=sparse_categorical_crossentropy,\n",
    "                  optimizer=Adam(learning_rate),\n",
    "                  metrics=['accuracy'])\n",
    "    return model\n",
    "tests.test_model_final(model_final)\n",
    "\n",
    "\n",
    "print('Final Model Loaded')\n",
    "# TODO: Train the final model"
   ]
  },
  {
   "cell_type": "markdown",
   "metadata": {},
   "source": [
    "## Prediction (IMPLEMENTATION)"
   ]
  },
  {
   "cell_type": "code",
   "execution_count": 17,
   "metadata": {
    "scrolled": true
   },
   "outputs": [
    {
     "name": "stdout",
     "output_type": "stream",
     "text": [
      "Train on 110288 samples, validate on 27573 samples\n",
      "Epoch 1/20\n",
      "110288/110288 [==============================] - 21s 195us/step - loss: 3.2371 - acc: 0.4252 - val_loss: nan - val_acc: 0.4679\n",
      "Epoch 2/20\n",
      "110288/110288 [==============================] - 20s 185us/step - loss: 2.3557 - acc: 0.4839 - val_loss: nan - val_acc: 0.5105\n",
      "Epoch 3/20\n",
      "110288/110288 [==============================] - 20s 185us/step - loss: 1.9638 - acc: 0.5280 - val_loss: nan - val_acc: 0.5436\n",
      "Epoch 4/20\n",
      "110288/110288 [==============================] - 20s 185us/step - loss: 1.7405 - acc: 0.5636 - val_loss: nan - val_acc: 0.5823\n",
      "Epoch 5/20\n",
      "110288/110288 [==============================] - 20s 185us/step - loss: 1.5873 - acc: 0.5877 - val_loss: nan - val_acc: 0.5946\n",
      "Epoch 6/20\n",
      "110288/110288 [==============================] - 20s 186us/step - loss: 1.4819 - acc: 0.6025 - val_loss: nan - val_acc: 0.6024\n",
      "Epoch 7/20\n",
      "110288/110288 [==============================] - 20s 185us/step - loss: 1.4012 - acc: 0.6208 - val_loss: nan - val_acc: 0.6375\n",
      "Epoch 8/20\n",
      "110288/110288 [==============================] - 20s 185us/step - loss: 1.3057 - acc: 0.6445 - val_loss: nan - val_acc: 0.6524\n",
      "Epoch 9/20\n",
      "110288/110288 [==============================] - 20s 186us/step - loss: 1.2274 - acc: 0.6589 - val_loss: nan - val_acc: 0.6646\n",
      "Epoch 10/20\n",
      "110288/110288 [==============================] - 20s 185us/step - loss: 1.1504 - acc: 0.6744 - val_loss: nan - val_acc: 0.6810\n",
      "Epoch 11/20\n",
      "110288/110288 [==============================] - 20s 186us/step - loss: 1.0845 - acc: 0.6914 - val_loss: nan - val_acc: 0.6921\n",
      "Epoch 12/20\n",
      "110288/110288 [==============================] - 20s 185us/step - loss: 1.0380 - acc: 0.7057 - val_loss: nan - val_acc: 0.7174\n",
      "Epoch 13/20\n",
      "110288/110288 [==============================] - 20s 185us/step - loss: 0.9787 - acc: 0.7231 - val_loss: nan - val_acc: 0.7286\n",
      "Epoch 14/20\n",
      "110288/110288 [==============================] - 20s 185us/step - loss: 0.9278 - acc: 0.7355 - val_loss: nan - val_acc: 0.7372\n",
      "Epoch 15/20\n",
      "110288/110288 [==============================] - 20s 185us/step - loss: 0.8844 - acc: 0.7458 - val_loss: nan - val_acc: 0.7518\n",
      "Epoch 16/20\n",
      "110288/110288 [==============================] - 20s 185us/step - loss: 0.8421 - acc: 0.7560 - val_loss: nan - val_acc: 0.7622\n",
      "Epoch 17/20\n",
      "110288/110288 [==============================] - 20s 185us/step - loss: 0.8032 - acc: 0.7664 - val_loss: nan - val_acc: 0.7729\n",
      "Epoch 18/20\n",
      "110288/110288 [==============================] - 20s 185us/step - loss: 0.7714 - acc: 0.7742 - val_loss: nan - val_acc: 0.7787\n",
      "Epoch 19/20\n",
      "110288/110288 [==============================] - 20s 185us/step - loss: 0.7295 - acc: 0.7854 - val_loss: nan - val_acc: 0.7900\n",
      "Epoch 20/20\n",
      "110288/110288 [==============================] - 20s 185us/step - loss: 0.6956 - acc: 0.7940 - val_loss: nan - val_acc: 0.7957\n",
      "Sample 1:\n",
      "il a vu un nouveau camion rouge <PAD> <PAD> <PAD> <PAD> <PAD> <PAD> <PAD> <PAD> <PAD> <PAD> <PAD> <PAD> <PAD> <PAD>\n",
      "Il a vu un vieux camion jaune\n",
      "Sample 2:\n",
      "new jersey est généralement chaud pendant cours de il il il en en <PAD> <PAD> <PAD> <PAD> <PAD> <PAD> <PAD> <PAD>\n",
      "new jersey est parfois calme pendant l' automne et il est neigeux en avril <PAD> <PAD> <PAD> <PAD> <PAD> <PAD> <PAD>\n"
     ]
    }
   ],
   "source": [
    "def final_predictions(x, y, x_tk, y_tk):\n",
    "    \"\"\"\n",
    "    Gets predictions using the final model\n",
    "    :param x: Preprocessed English data\n",
    "    :param y: Preprocessed French data\n",
    "    :param x_tk: English tokenizer\n",
    "    :param y_tk: French tokenizer\n",
    "    \"\"\"\n",
    "    # Find length of longest English sentence\n",
    "    max_english_sequence_length = x.shape[1]\n",
    "    # Find length of longest English sentence\n",
    "    max_french_sequence_length = y.shape[1]\n",
    "    # Find size of English vocabulary\n",
    "    english_vocab_size = len(x_tk.word_index)\n",
    "    # Find size of French vocabulary\n",
    "    french_vocab_size = len(y_tk.word_index)\n",
    "    \n",
    "    # TODO: Train neural network using model_final\n",
    "    model = model_final(x.shape,\\\n",
    "                        max_french_sequence_length,\\\n",
    "                        english_vocab_size,\\\n",
    "                        french_vocab_size\n",
    "                       )\n",
    "    model.fit(x, y, batch_size=1024, epochs=20, validation_split=0.2)\n",
    "\n",
    "    \n",
    "    ## DON'T EDIT ANYTHING BELOW THIS LINE\n",
    "    y_id_to_word = {value: key for key, value in y_tk.word_index.items()}\n",
    "    y_id_to_word[0] = '<PAD>'\n",
    "\n",
    "    sentence = 'he saw a old yellow truck'\n",
    "    sentence = [x_tk.word_index[word] for word in sentence.split()]\n",
    "    sentence = pad_sequences([sentence], maxlen=x.shape[-1], padding='post')\n",
    "    sentences = np.array([sentence[0], x[0]])\n",
    "    predictions = model.predict(sentences, len(sentences))\n",
    "\n",
    "    print('Sample 1:')\n",
    "    print(' '.join([y_id_to_word[np.argmax(x)] for x in predictions[0]]))\n",
    "    print('Il a vu un vieux camion jaune')\n",
    "    print('Sample 2:')\n",
    "    print(' '.join([y_id_to_word[np.argmax(x)] for x in predictions[1]]))\n",
    "    print(' '.join([y_id_to_word[np.max(x)] for x in y[0]]))\n",
    "    \n",
    "    return model\n",
    "\n",
    "model = final_predictions(preproc_english_sentences, preproc_french_sentences, english_tokenizer, french_tokenizer)"
   ]
  },
  {
   "cell_type": "code",
   "execution_count": 20,
   "metadata": {},
   "outputs": [
    {
     "name": "stdout",
     "output_type": "stream",
     "text": [
      "Sentence  0\n",
      "Original English sentence: new jersey is sometimes quiet during autumn , and it is snowy in april .\n",
      "Original French sentence: new jersey est parfois calme pendant l' automne , et il est neigeux en avril .\n",
      "Translated French Sentence: new jersey est généralement chaud pendant cours de il il il en en <PAD> <PAD> <PAD> <PAD> <PAD> <PAD> <PAD> <PAD> \n",
      "\n",
      "Sentence  1\n",
      "Original English sentence: the united states is usually chilly during july , and it is usually freezing in november .\n",
      "Original French sentence: les états-unis est généralement froid en juillet , et il gèle habituellement en novembre .\n",
      "Translated French Sentence: les états unis est parfois froid en avril et il gèle jamais en novembre <PAD> <PAD> <PAD> <PAD> <PAD> <PAD> <PAD> \n",
      "\n",
      "Sentence  2\n",
      "Original English sentence: california is usually quiet during march , and it is usually hot in june .\n",
      "Original French sentence: california est généralement calme en mars , et il est généralement chaud en juin .\n",
      "Translated French Sentence: californie est généralement agréable en et et il est généralement en en <PAD> <PAD> <PAD> <PAD> <PAD> <PAD> <PAD> <PAD> <PAD> \n",
      "\n",
      "Sentence  3\n",
      "Original English sentence: the united states is sometimes mild during june , and it is cold in september .\n",
      "Original French sentence: les états-unis est parfois légère en juin , et il fait froid en septembre .\n",
      "Translated French Sentence: les états unis est généralement agréable en juin et il est en en septembre <PAD> <PAD> <PAD> <PAD> <PAD> <PAD> <PAD> \n",
      "\n",
      "Sentence  4\n",
      "Original English sentence: your least liked fruit is the grape , but my least liked is the apple .\n",
      "Original French sentence: votre moins aimé fruit est le raisin , mais mon moins aimé est la pomme .\n",
      "Translated French Sentence: son fruit est moins aimé la mangue mais son moins aimé est la mangue <PAD> <PAD> <PAD> <PAD> <PAD> <PAD> <PAD> \n",
      "\n"
     ]
    }
   ],
   "source": [
    "# Print prediction(s)\n",
    "for i in range(5):\n",
    "    print(\"Sentence \", i)\n",
    "    print(\"Original English sentence: {}\".format(english_sentences[i]))\n",
    "    print(\"Original French sentence: {}\".format(french_sentences[i]))\n",
    "    print(\"Translated French Sentence: {} \\n\".format(logits_to_text(model.predict(preproc_english_sentences[i:i+1])[0], french_tokenizer)))"
   ]
  },
  {
   "cell_type": "code",
   "execution_count": null,
   "metadata": {},
   "outputs": [],
   "source": []
  },
  {
   "cell_type": "markdown",
   "metadata": {},
   "source": [
    "### Model: Sequence to Sequence (Extra)"
   ]
  },
  {
   "cell_type": "code",
   "execution_count": null,
   "metadata": {},
   "outputs": [],
   "source": [
    "# need to append <START> and <END> to every sentence first\n",
    "def preprocess_seq2seq(x, y):\n",
    "    \"\"\"\n",
    "    Preprocess x and y\n",
    "    :param x: Feature List of sentences\n",
    "    :param y: Label List of sentences\n",
    "    :return: Tuple of (Preprocessed x, Preprocessed y, x tokenizer, y tokenizer)\n",
    "    \"\"\"\n",
    "    # append <START> and <STOP> token to the output (French sentences)\n",
    "    new_input_y = []\n",
    "    new_target_y = []\n",
    "    for sent in y:\n",
    "        new_input_sent = \"<START>\" + sent + \"<END>\"\n",
    "        new_target_sent = sent + \"<END>\"\n",
    "        new_input_y.append(new_input_sent)\n",
    "        new_target_y.append(new_target_sent)\n",
    "    \n",
    "    preprocess_x, x_tk = tokenize(x)\n",
    "    preprocess_input_y, y_tk = tokenize(new_input_y)\n",
    "    preprocess_target_y = y_tk.texts_to_sequences(new_target_y)\n",
    "\n",
    "    preprocess_x = pad(preprocess_x)\n",
    "    preprocess_input_y = pad(preprocess_input_y)\n",
    "    max_input_y_len = max([len(sentence) for sentence in new_input_y])\n",
    "    preprocess_target_y = pad(preprocess_target_y, length=max_input_y_len)\n",
    "\n",
    "    # Keras's sparse_categorical_crossentropy function requires the labels to be in 3 dimensions\n",
    "    preprocess_input_y = preprocess_input_y.reshape(*preprocess_input_y.shape, 1)\n",
    "    preprocess_target_y = preprocess_target_y.reshape(*preprocess_target_y.shape, 1)\n",
    "\n",
    "    return preprocess_x, preprocess_input_y, preprocess_target_y, x_tk, y_tk\n",
    "\n",
    "preproc_english_sentences_s2s, preproc_french_sentences_s2s_input, preproc_french_sentences_s2s_target, english_tokenizer_s2s, french_tokenizer_s2s =\\\n",
    "    preprocess_seq2seq(english_sentences, french_sentences)\n",
    "    \n",
    "max_english_sequence_length_s2s = preproc_english_sentences_s2s.shape[1]\n",
    "max_french_sequence_length_s2s = preproc_french_sentences_s2s_input.shape[1]\n",
    "english_vocab_size_s2s = len(english_tokenizer_s2s.word_index)\n",
    "french_vocab_size_s2s = len(french_tokenizer_s2s.word_index)\n",
    "\n",
    "print('Data Preprocessed for Sequence to Sequence Model')\n",
    "print(\"Max English sentence length:\", max_english_sequence_length_s2s)\n",
    "print(\"Max French sentence length:\", max_french_sequence_length_s2s)\n",
    "print(\"English vocabulary size:\", english_vocab_size_s2s)\n",
    "print(\"French vocabulary size:\", french_vocab_size_s2s)"
   ]
  },
  {
   "cell_type": "code",
   "execution_count": null,
   "metadata": {},
   "outputs": [],
   "source": [
    "hidden_size = 128\n",
    "learning_rate = 1e-3\n",
    "embedding_size = 100\n",
    "\n",
    "encoder_inputs = Input(shape=(None,))#Input(shape=(max_text_len,))\n",
    "\n",
    "# embedding layer for encoder\n",
    "enc_embed_out = Embedding(input_dim=english_vocab_size,\\\n",
    "                          output_dim=embedding_size,\\\n",
    "                          input_length=input_shape[1])(encoder_inputs)\n",
    "#encoder lstm 1\n",
    "encoder_lstm1 = LSTM(hidden_size,return_sequences=True,return_state=True,dropout=0.4,recurrent_dropout=0.4)\n",
    "encoder_output1, state_h1, state_c1 = encoder_lstm1(enc_embed_out)\n",
    "\n",
    "#encoder lstm 2\n",
    "encoder_lstm2 = LSTM(latent_dim,return_sequences=True,return_state=True,dropout=0.4,recurrent_dropout=0.4)\n",
    "encoder_output2, state_h2, state_c2 = encoder_lstm2(encoder_output1)\n",
    "\n",
    "# Set up the decoder, using `encoder_states` as initial state.\n",
    "decoder_inputs = Input(shape=(None,))\n",
    "\n",
    "# embedding layer for decoder\n",
    "dec_emb_out = Embedding(input_dim=french_vocab_size,\\\n",
    "                        output_dim=embedding_size,\\\n",
    "                        input_length=output_sequence_length\n",
    "                       )(decoder_inputs)\n",
    "# decoder lstm 1\n",
    "decoder_lstm = LSTM(hidden_size, return_sequences=True, return_state=True,dropout=0.4,recurrent_dropout=0.2)\n",
    "decoder_outputs1, decoder_h1, decoder_c1 = decoder_lstm(dec_emb_out,initial_state=[state_h2, state_c2])\n",
    "\n",
    "# decoder lstm 1\n",
    "decoder_lstm2 = LSTM(hidden_size, return_sequences=True, return_state=True,dropout=0.4,recurrent_dropout=0.2)\n",
    "decoder_outputs2, decoder_h2, decoder_c2 = decoder_lstm2(decoder_outputs1)\n",
    "\n",
    "# dense layer\n",
    "logits = TimeDistributed(Dense(french_vocab_size, activation='softmax'))(decoder_outputs2)\n",
    "\n",
    "model = Model(inputs=[encoder_inputs, decoder_inputs], outputs=logits)\n",
    "model.compile(loss=sparse_categorical_crossentropy,\n",
    "              optimizer=Adam(learning_rate),\n",
    "              metrics=['accuracy'])\n",
    "\n",
    "model.fit([preproc_english_sentences_s2s, preproc_french_sentences_s2s_input], preproc_french_sentences_s2s_target,\n",
    "          batch_size=1024,\n",
    "          epochs=20,\n",
    "          validation_split=0.2)"
   ]
  },
  {
   "cell_type": "code",
   "execution_count": null,
   "metadata": {},
   "outputs": [],
   "source": [
    "# Inference\n",
    "encoder_states = [state_h2, state_c2]\n",
    "encoder_model = Model(encoder_inputs, encoder_states)\n",
    "\n",
    "decoder_state_input_h = Input(shape=(hidden_size,))\n",
    "decoder_state_input_c = Input(shape=(hidden_size,))\n",
    "decoder_states_inputs = [decoder_state_input_h, decoder_state_input_c]\n",
    "decoder_outputs, state_h, state_c = decoder_lstm(\n",
    "    decoder_inputs, initial_state=decoder_states_inputs)\n",
    "# add another layer\n",
    "decoder_states = [state_h, state_c]\n",
    "# may need to change to TimeDistributed\n",
    "decoder_outputs = decoder_dense(decoder_outputs)\n",
    "decoder_model = Model(\n",
    "    [decoder_inputs] + decoder_states_inputs,\n",
    "    [decoder_outputs] + decoder_states)"
   ]
  },
  {
   "cell_type": "markdown",
   "metadata": {},
   "source": [
    "## Submission\n",
    "When you're ready to submit, complete the following steps:\n",
    "1. Review the [rubric](https://review.udacity.com/#!/rubrics/1004/view) to ensure your submission meets all requirements to pass\n",
    "2. Generate an HTML version of this notebook\n",
    "\n",
    "  - Run the next cell to attempt automatic generation (this is the recommended method in Workspaces)\n",
    "  - Navigate to **FILE -> Download as -> HTML (.html)**\n",
    "  - Manually generate a copy using `nbconvert` from your shell terminal\n",
    "```\n",
    "$ pip install nbconvert\n",
    "$ python -m nbconvert machine_translation.ipynb\n",
    "```\n",
    "  \n",
    "3. Submit the project\n",
    "\n",
    "  - If you are in a Workspace, simply click the \"Submit Project\" button (bottom towards the right)\n",
    "  \n",
    "  - Otherwise, add the following files into a zip archive and submit them \n",
    "  - `helper.py`\n",
    "  - `machine_translation.ipynb`\n",
    "  - `machine_translation.html`\n",
    "    - You can export the notebook by navigating to **File -> Download as -> HTML (.html)**."
   ]
  },
  {
   "cell_type": "markdown",
   "metadata": {},
   "source": [
    "### Generate the html\n",
    "\n",
    "**Save your notebook before running the next cell to generate the HTML output.** Then submit your project."
   ]
  },
  {
   "cell_type": "code",
   "execution_count": 21,
   "metadata": {},
   "outputs": [
    {
     "data": {
      "text/plain": [
       "['[NbConvertApp] Converting notebook machine_translation.ipynb to html',\n",
       " '[NbConvertApp] Writing 426762 bytes to machine_translation.html',\n",
       " '[NbConvertApp] Converting notebook machine_translation-zh.ipynb to html',\n",
       " '[NbConvertApp] Writing 328614 bytes to machine_translation-zh.html']"
      ]
     },
     "execution_count": 21,
     "metadata": {},
     "output_type": "execute_result"
    }
   ],
   "source": [
    "# Save before you run this cell!\n",
    "!!jupyter nbconvert *.ipynb"
   ]
  },
  {
   "cell_type": "markdown",
   "metadata": {},
   "source": [
    "## Optional Enhancements\n",
    "\n",
    "This project focuses on learning various network architectures for machine translation, but we don't evaluate the models according to best practices by splitting the data into separate test & training sets -- so the model accuracy is overstated. Use the [`sklearn.model_selection.train_test_split()`](http://scikit-learn.org/stable/modules/generated/sklearn.model_selection.train_test_split.html) function to create separate training & test datasets, then retrain each of the models using only the training set and evaluate the prediction accuracy using the hold out test set. Does the \"best\" model change?"
   ]
  }
 ],
 "metadata": {
  "kernelspec": {
   "display_name": "Python [conda env:root]",
   "language": "python",
   "name": "conda-root-py"
  },
  "language_info": {
   "codemirror_mode": {
    "name": "ipython",
    "version": 2
   },
   "file_extension": ".py",
   "mimetype": "text/x-python",
   "name": "python",
   "nbconvert_exporter": "python",
   "pygments_lexer": "ipython2",
   "version": "2.7.16"
  }
 },
 "nbformat": 4,
 "nbformat_minor": 1
}
